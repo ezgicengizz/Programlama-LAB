{
 "cells": [
  {
   "cell_type": "code",
   "execution_count": 68,
   "metadata": {},
   "outputs": [],
   "source": [
    "#possion distribution gerceklesen olay sonucunda beklenen değeri verir burada possion distribution'un formulu ve \n",
    "#sympy kutuphanesi yardımıyla grafigini çizdirecegiz\n",
    "\n",
    "import sympy as sym    \n",
    "from sympy import Symbol\n",
    "from sympy import pprint\n",
    "import sympy.plotting as syp"
   ]
  },
  {
   "cell_type": "code",
   "execution_count": 45,
   "metadata": {},
   "outputs": [],
   "source": [
    "x=Symbol('x')\n",
    "mu=Symbol('mu')"
   ]
  },
  {
   "cell_type": "code",
   "execution_count": 46,
   "metadata": {},
   "outputs": [
    {
     "name": "stdout",
     "output_type": "stream",
     "text": [
      "mu**x\n"
     ]
    }
   ],
   "source": [
    "part1=mu**x\n",
    "print(part1)"
   ]
  },
  {
   "cell_type": "code",
   "execution_count": 47,
   "metadata": {},
   "outputs": [
    {
     "name": "stdout",
     "output_type": "stream",
     "text": [
      " x\n",
      "μ \n"
     ]
    }
   ],
   "source": [
    "pprint(part1)"
   ]
  },
  {
   "cell_type": "code",
   "execution_count": 48,
   "metadata": {},
   "outputs": [
    {
     "name": "stdout",
     "output_type": "stream",
     "text": [
      "exp(-mu)\n"
     ]
    }
   ],
   "source": [
    "part2=sym.exp(-1*(mu))\n",
    "print(part2)"
   ]
  },
  {
   "cell_type": "code",
   "execution_count": 49,
   "metadata": {},
   "outputs": [
    {
     "name": "stdout",
     "output_type": "stream",
     "text": [
      " -μ\n",
      "ℯ  \n"
     ]
    }
   ],
   "source": [
    "pprint(part2)"
   ]
  },
  {
   "cell_type": "code",
   "execution_count": 50,
   "metadata": {},
   "outputs": [
    {
     "name": "stdout",
     "output_type": "stream",
     "text": [
      "1/factorial(x)\n"
     ]
    }
   ],
   "source": [
    "part3=1/sym.factorial(x)\n",
    "print(part3)"
   ]
  },
  {
   "cell_type": "code",
   "execution_count": 51,
   "metadata": {},
   "outputs": [
    {
     "name": "stdout",
     "output_type": "stream",
     "text": [
      "1 \n",
      "──\n",
      "x!\n"
     ]
    }
   ],
   "source": [
    "pprint(part3)"
   ]
  },
  {
   "cell_type": "code",
   "execution_count": 52,
   "metadata": {},
   "outputs": [
    {
     "name": "stdout",
     "output_type": "stream",
     "text": [
      "mu**x*exp(-mu)/factorial(x)\n"
     ]
    }
   ],
   "source": [
    "mypossion=part1*part2*part3 \n",
    "print(mypossion)"
   ]
  },
  {
   "cell_type": "code",
   "execution_count": 53,
   "metadata": {},
   "outputs": [
    {
     "name": "stdout",
     "output_type": "stream",
     "text": [
      " x  -μ\n",
      "μ ⋅ℯ  \n",
      "──────\n",
      "  x!  \n"
     ]
    }
   ],
   "source": [
    "pprint(mypossion) #possion distribution formülünü matematiksel sembollerle yazdırır\n",
    "#asagidaki formulde x gerceklesen olay sayisi mu ise beklenen degeri verir."
   ]
  },
  {
   "cell_type": "code",
   "execution_count": 58,
   "metadata": {},
   "outputs": [
    {
     "data": {
      "image/png": "[encoded data removed]",
      "text/plain": [
       "<Figure size 432x288 with 1 Axes>"
      ]
     },
     "metadata": {
      "needs_background": "light"
     },
     "output_type": "display_data"
    },
    {
     "data": {
      "text/plain": [
       "<sympy.plotting.plot.Plot at 0x26558cc21c8>"
      ]
     },
     "execution_count": 58,
     "metadata": {},
     "output_type": "execute_result"
    }
   ],
   "source": [
    "syp.plot(mypossion.subs({mu:7}),(x,0,100),title='Poisson Distribution Graph') #grafiği olması gerekenleri yazıp bastırıyoruz"
   ]
  },
  {
   "cell_type": "code",
   "execution_count": 66,
   "metadata": {},
   "outputs": [
    {
     "name": "stdout",
     "output_type": "stream",
     "text": [
      "0 0.000911881965554516\n",
      "1 0.00638317375888161\n",
      "2 0.0223411081560856\n",
      "3 0.0521292523641998\n",
      "4 0.0912261916373497\n",
      "5 0.127716668292290\n",
      "6 0.149002779674338\n",
      "7 0.149002779674338\n",
      "8 0.130377432215046\n",
      "9 0.101404669500591\n",
      "10 0.0709832686504137\n",
      "11 0.0451711709593542\n",
      "12 0.0263498497262899\n",
      "13 0.0141883806218484\n",
      "14 0.00709419031092422\n",
      "15 0.00331062214509797\n",
      "16 0.00144839718848036\n",
      "17 0.000596398842315443\n",
      "18 0.000231932883122672\n",
      "19 8.54489569399319e-5\n",
      "20 2.99071349289762e-5\n",
      "21 9.96904497632538e-6\n",
      "22 3.17196885610353e-6\n",
      "23 9.65381825770640e-7\n",
      "24 2.81569699183103e-7\n",
      "25 7.88395157712689e-8\n",
      "26 2.12260234768801e-8\n",
      "27 5.50304312363558e-9\n",
      "28 1.37576078090890e-9\n",
      "29 3.32080188495251e-10\n",
      "30 7.74853773155585e-11\n",
      "31 1.74966981035132e-11\n",
      "32 3.82740271014351e-12\n",
      "33 8.11873302151654e-13\n",
      "34 1.67150385737105e-13\n",
      "35 3.34300771474211e-14\n",
      "36 6.50029277866520e-15\n",
      "37 1.22978512028801e-15\n",
      "38 2.26539364263581e-16\n",
      "39 4.06609115344889e-17\n",
      "40 7.11565951853556e-18\n",
      "41 1.21486869828656e-18\n",
      "42 2.02478116381093e-19\n",
      "43 3.29615538294803e-20\n",
      "44 5.24388356378095e-21\n",
      "45 8.15715221032593e-22\n",
      "46 1.24130577113655e-22\n",
      "47 1.84875327616083e-23\n",
      "48 2.69609852773454e-24\n",
      "49 3.85156932533505e-25\n"
     ]
    },
    {
     "data": {
      "image/png": "[encoded data removed]",
      "text/plain": [
       "<Figure size 432x288 with 1 Axes>"
      ]
     },
     "metadata": {
      "needs_background": "light"
     },
     "output_type": "display_data"
    }
   ],
   "source": [
    "import matplotlib.pyplot as plt #matplotlib yardımıyla possion distribution grafigi cizme\n",
    "%matplotlib inline\n",
    "x_degerleri=[]\n",
    "y_degerleri=[]\n",
    "for i in range(50):\n",
    "    y=mypossion.subs({mu:7,x:i}).evalf()\n",
    "    y_degerleri.append(y)\n",
    "    x_degerleri.append(i)\n",
    "    print(i,y)\n",
    "plt.plot(x_degerleri,y_degerleri)\n",
    "plt.show() #grafiği bastırır"
   ]
  }
 ],
 "metadata": {
  "kernelspec": {
   "display_name": "Python 3",
   "language": "python",
   "name": "python3"
  },
  "language_info": {
   "codemirror_mode": {
    "name": "ipython",
    "version": 3
   },
   "file_extension": ".py",
   "mimetype": "text/x-python",
   "name": "python",
   "nbconvert_exporter": "python",
   "pygments_lexer": "ipython3",
   "version": "3.7.4"
  }
 },
 "nbformat": 4,
 "nbformat_minor": 2
}
