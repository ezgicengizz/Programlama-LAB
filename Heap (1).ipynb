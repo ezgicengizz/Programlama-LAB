{
 "cells": [
  {
   "cell_type": "code",
   "execution_count": 1,
   "metadata": {},
   "outputs": [],
   "source": [
    "def min_heapify(array,i): \n",
    "    left=2*i+1\n",
    "    right=2*i+2\n",
    "    length=len(array) - 1\n",
    "    smallest=i\n",
    "    if left <= length and array[i] > array[left]:\n",
    "        smallest=left\n",
    "    if right <= length and array[smallest] > array[right]:\n",
    "        smallest =right\n",
    "    if smallest != i:\n",
    "        array[i],array[smallest]=array[smallest],array[i]\n",
    "        min_heapify(array,smallest)\n",
    "# min_heapify fonksiyonu array ve i parametrelerini alır ve döndürdüğü değer yoktur.Bu fonksiyon dizinin i.indeksindeki sayı \n",
    "# ile sağı ve solu arasında kıyaslama yapar. Küçük olan yukarı çıkar büyük olan aşağı iner."
   ]
  },
  {
   "cell_type": "code",
   "execution_count": 2,
   "metadata": {},
   "outputs": [],
   "source": [
    "def build_min_heap(array):\n",
    "    for i in reversed(range(len(array)//2)):\n",
    "        min_heapify(array,i)\n",
    "# build_min_heap fonksiyonu array'i parametre olarak alır döndürdüğü değer yoktur.Bu fonksiyon gönderilen dizinin yarısından \n",
    "# itibaren min_heapify'a gönderir. min_heap oluşur."
   ]
  },
  {
   "cell_type": "code",
   "execution_count": 3,
   "metadata": {},
   "outputs": [],
   "source": [
    "array_1=[8,10,3,4,7,15,1,2,16]"
   ]
  },
  {
   "cell_type": "code",
   "execution_count": 4,
   "metadata": {},
   "outputs": [],
   "source": [
    "build_min_heap(array_1)"
   ]
  },
  {
   "cell_type": "code",
   "execution_count": 5,
   "metadata": {},
   "outputs": [
    {
     "data": {
      "text/plain": [
       "[1, 2, 3, 4, 7, 15, 8, 10, 16]"
      ]
     },
     "execution_count": 5,
     "metadata": {},
     "output_type": "execute_result"
    }
   ],
   "source": [
    "array_1"
   ]
  },
  {
   "cell_type": "code",
   "execution_count": 6,
   "metadata": {},
   "outputs": [],
   "source": [
    "def heapsort(array):\n",
    "    array=array.copy()\n",
    "    build_min_heap(array)\n",
    "    sorted_array=[]\n",
    "    for _ in range(len(array)):\n",
    "        array[0],array[-1]=array[-1],array[0] ## dizinin sonu ile başı yer değiştiriyor.\n",
    "        sorted_array.append(array.pop())\n",
    "        min_heapify(array,0)\n",
    "    return sorted_array\n",
    "# heapsort fonksiyonu parametre olarak array'i alır.Döndürdüğü değer de sorted_array'dir.\n",
    "# Bu fonksiyonu diziyi küçükten büyüğe sıralar."
   ]
  },
  {
   "cell_type": "code",
   "execution_count": 7,
   "metadata": {},
   "outputs": [
    {
     "data": {
      "text/plain": [
       "([8, 10, 3, 4, 7, 15, 1, 2, 16], [1, 2, 3, 4, 7, 8, 10, 15, 16])"
      ]
     },
     "execution_count": 7,
     "metadata": {},
     "output_type": "execute_result"
    }
   ],
   "source": [
    "array_1 = [8,10,3,4,7,15,1,2,16]\n",
    "array_2 = heapsort(array_1)\n",
    "array_1,array_2"
   ]
  },
  {
   "cell_type": "code",
   "execution_count": 13,
   "metadata": {},
   "outputs": [],
   "source": [
    "def insertItemToHeap(my_heap,item):\n",
    "    length=len(my_heap)\n",
    "    if length==0 :\n",
    "        print(\" heap bos..\")\n",
    "        my_heap.append(item)\n",
    "        return my_heap\n",
    "    else:\n",
    "        my_heap.append(item) #append verilen sayıyı sondan ekler.\n",
    "        build_min_heap(my_heap)\n",
    "    return my_heap\n",
    "#insert_Heap fonkssiyonu aldığı parametreler my_Heap  ve item'dır.my_Heap dizi, item eklenecek olan sayıdır.Döndürdüğü değer \n",
    "# ise item eklendikten sonraki my_Heap dizisidir."
   ]
  },
  {
   "cell_type": "code",
   "execution_count": 14,
   "metadata": {},
   "outputs": [
    {
     "data": {
      "text/plain": [
       "[1, 2, 3, 4, 7, 8, 10, 15, 16, 100]"
      ]
     },
     "execution_count": 14,
     "metadata": {},
     "output_type": "execute_result"
    }
   ],
   "source": [
    "insert=insertItemToHeap(array_2,100)\n",
    "insert"
   ]
  },
  {
   "cell_type": "code",
   "execution_count": 15,
   "metadata": {},
   "outputs": [],
   "source": [
    "def removeItemFrom(my_Heap):\n",
    "    length = len(my_Heap)\n",
    "    if length == 0:\n",
    "        print(\"heap bos\")\n",
    "        return\n",
    "    my_Heap.pop()# pop son elemanı siler.\n",
    "    return my_Heap\n",
    "#remove_Heap'in aldığı parametre my_heap dizisidir.Döndürdüğü değer ise sondan bir elemanı silinmiş my_Heap dizisidir.\n",
    "#Bu fonksiyon sondan elemani siler."
   ]
  },
  {
   "cell_type": "code",
   "execution_count": 16,
   "metadata": {},
   "outputs": [],
   "source": [
    "remove=removeItemFrom(array_2)"
   ]
  },
  {
   "cell_type": "code",
   "execution_count": 12,
   "metadata": {},
   "outputs": [
    {
     "data": {
      "text/plain": [
       "[1, 2, 3, 4, 7, 8, 10, 15, 16]"
      ]
     },
     "execution_count": 12,
     "metadata": {},
     "output_type": "execute_result"
    }
   ],
   "source": [
    "remove"
   ]
  }
 ],
 "metadata": {
  "kernelspec": {
   "display_name": "Python 3",
   "language": "python",
   "name": "python3"
  },
  "language_info": {
   "codemirror_mode": {
    "name": "ipython",
    "version": 3
   },
   "file_extension": ".py",
   "mimetype": "text/x-python",
   "name": "python",
   "nbconvert_exporter": "python",
   "pygments_lexer": "ipython3",
   "version": "3.7.4"
  }
 },
 "nbformat": 4,
 "nbformat_minor": 2
}
