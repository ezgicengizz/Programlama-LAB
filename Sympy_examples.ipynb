{
 "cells": [
  {
   "cell_type": "code",
   "execution_count": 1,
   "metadata": {},
   "outputs": [],
   "source": [
    "from sympy import Symbol\n",
    "x=Symbol('x')\n",
    "y=Symbol('y')\n"
   ]
  },
  {
   "cell_type": "code",
   "execution_count": 19,
   "metadata": {},
   "outputs": [
    {
     "data": {
      "text/latex": [
       "$\\displaystyle 2 x^{2}$"
      ],
      "text/plain": [
       "2*x**2"
      ]
     },
     "execution_count": 19,
     "metadata": {},
     "output_type": "execute_result"
    }
   ],
   "source": [
    "p = x*(x + x)\n",
    "p"
   ]
  },
  {
   "cell_type": "code",
   "execution_count": 4,
   "metadata": {},
   "outputs": [
    {
     "data": {
      "text/latex": [
       "$\\displaystyle \\left(x + 2\\right) \\left(x + 3\\right)$"
      ],
      "text/plain": [
       "(x + 2)*(x + 3)"
      ]
     },
     "execution_count": 4,
     "metadata": {},
     "output_type": "execute_result"
    }
   ],
   "source": [
    "p=(x+2)*(x+3)\n",
    "p"
   ]
  },
  {
   "cell_type": "code",
   "execution_count": 16,
   "metadata": {},
   "outputs": [
    {
     "data": {
      "text/latex": [
       "$\\displaystyle \\left(x - y\\right) \\left(x + y\\right)$"
      ],
      "text/plain": [
       "(x - y)*(x + y)"
      ]
     },
     "execution_count": 16,
     "metadata": {},
     "output_type": "execute_result"
    }
   ],
   "source": [
    "from sympy import factor,expand\n",
    "expr=x**2 - y**2\n",
    "factor(expr)"
   ]
  },
  {
   "cell_type": "code",
   "execution_count": 18,
   "metadata": {},
   "outputs": [],
   "source": [
    "factors=factor(expr)\n",
    "expand=expand(factors)"
   ]
  },
  {
   "cell_type": "code",
   "execution_count": 20,
   "metadata": {},
   "outputs": [
    {
     "data": {
      "text/plain": [
       "((x - y)*(x + y), x**2 - y**2)"
      ]
     },
     "execution_count": 20,
     "metadata": {},
     "output_type": "execute_result"
    }
   ],
   "source": [
    "factors,expand"
   ]
  },
  {
   "cell_type": "code",
   "execution_count": 21,
   "metadata": {},
   "outputs": [],
   "source": [
    "expr=x**3+3*x**2*y+3*y**2*x+y**3"
   ]
  },
  {
   "cell_type": "code",
   "execution_count": 23,
   "metadata": {},
   "outputs": [
    {
     "data": {
      "text/latex": [
       "$\\displaystyle \\left(x + y\\right)^{3}$"
      ],
      "text/plain": [
       "(x + y)**3"
      ]
     },
     "execution_count": 23,
     "metadata": {},
     "output_type": "execute_result"
    }
   ],
   "source": [
    "factors=factor(expr)\n",
    "factors"
   ]
  },
  {
   "cell_type": "code",
   "execution_count": 24,
   "metadata": {},
   "outputs": [
    {
     "name": "stdout",
     "output_type": "stream",
     "text": [
      "       3\n",
      "(x + y) \n"
     ]
    }
   ],
   "source": [
    "from sympy import pprint\n",
    "pprint(factors)"
   ]
  },
  {
   "cell_type": "code",
   "execution_count": 40,
   "metadata": {},
   "outputs": [
    {
     "name": "stdout",
     "output_type": "stream",
     "text": [
      " 5    4    3    2    \n",
      "x    x    x    x     \n",
      "── + ── + ── + ── + x\n",
      "5    4    3    2     \n"
     ]
    }
   ],
   "source": [
    "x=Symbol('x')\n",
    "series=x\n",
    "n=5\n",
    "for i in range(2,n+1):\n",
    "    series +=  (x**i)/i\n",
    "pprint(series)"
   ]
  },
  {
   "cell_type": "code",
   "execution_count": 38,
   "metadata": {},
   "outputs": [
    {
     "data": {
      "text/latex": [
       "$\\displaystyle 9$"
      ],
      "text/plain": [
       "9"
      ]
     },
     "execution_count": 38,
     "metadata": {},
     "output_type": "execute_result"
    }
   ],
   "source": [
    "expr=x*x+x*y+x*y+y*y\n",
    "res=expr.subs({x:1,y:2})\n",
    "res"
   ]
  },
  {
   "cell_type": "code",
   "execution_count": 39,
   "metadata": {},
   "outputs": [
    {
     "data": {
      "text/latex": [
       "$\\displaystyle y^{2} + 2 y \\left(1 - y\\right) + \\left(1 - y\\right)^{2}$"
      ],
      "text/plain": [
       "y**2 + 2*y*(1 - y) + (1 - y)**2"
      ]
     },
     "execution_count": 39,
     "metadata": {},
     "output_type": "execute_result"
    }
   ],
   "source": [
    "r=expr.subs({x:1-y})\n",
    "r"
   ]
  },
  {
   "cell_type": "code",
   "execution_count": 47,
   "metadata": {},
   "outputs": [
    {
     "name": "stdout",
     "output_type": "stream",
     "text": [
      " 50    49    48    47    46    45    44    43    42    41    40    39    38   \n",
      "x     x     x     x     x     x     x     x     x     x     x     x     x     \n",
      "─── + ─── + ─── + ─── + ─── + ─── + ─── + ─── + ─── + ─── + ─── + ─── + ─── + \n",
      " 50    49    48    47    46    45    44    43    42    41    40    39    38   \n",
      "\n",
      " 37    36    35    34    33    32    31    30    29    28    27    26    25   \n",
      "x     x     x     x     x     x     x     x     x     x     x     x     x     \n",
      "─── + ─── + ─── + ─── + ─── + ─── + ─── + ─── + ─── + ─── + ─── + ─── + ─── + \n",
      " 37    36    35    34    33    32    31    30    29    28    27    26    25   \n",
      "\n",
      " 24    23    22    21    20    19    18    17    16    15    14    13    12   \n",
      "x     x     x     x     x     x     x     x     x     x     x     x     x     \n",
      "─── + ─── + ─── + ─── + ─── + ─── + ─── + ─── + ─── + ─── + ─── + ─── + ─── + \n",
      " 24    23    22    21    20    19    18    17    16    15    14    13    12   \n",
      "\n",
      " 11    10    9    8    7    6    5    4    3    2    \n",
      "x     x     x    x    x    x    x    x    x    x     \n",
      "─── + ─── + ── + ── + ── + ── + ── + ── + ── + ── + x\n",
      " 11    10   9    8    7    6    5    4    3    2     \n"
     ]
    },
    {
     "data": {
      "text/latex": [
       "$\\displaystyle \\frac{8628068285810433193279884787797192785459269742988824521630147081480}{3873805630307495883}$"
      ],
      "text/plain": [
       "8628068285810433193279884787797192785459269742988824521630147081480/3873805630307495883"
      ]
     },
     "execution_count": 47,
     "metadata": {},
     "output_type": "execute_result"
    }
   ],
   "source": [
    "x=Symbol('x')\n",
    "series=x\n",
    "n=50\n",
    "x_value=10\n",
    "for i in range (2,n+1):\n",
    "    series+=(x**i)/i\n",
    "pprint(series)\n",
    "r=series.subs({x:x_value})\n",
    "r\n"
   ]
  },
  {
   "cell_type": "code",
   "execution_count": null,
   "metadata": {},
   "outputs": [],
   "source": []
  },
  {
   "cell_type": "code",
   "execution_count": null,
   "metadata": {},
   "outputs": [],
   "source": []
  }
 ],
 "metadata": {
  "kernelspec": {
   "display_name": "Python 3",
   "language": "python",
   "name": "python3"
  },
  "language_info": {
   "codemirror_mode": {
    "name": "ipython",
    "version": 3
   },
   "file_extension": ".py",
   "mimetype": "text/x-python",
   "name": "python",
   "nbconvert_exporter": "python",
   "pygments_lexer": "ipython3",
   "version": "3.7.4"
  }
 },
 "nbformat": 4,
 "nbformat_minor": 2
}
